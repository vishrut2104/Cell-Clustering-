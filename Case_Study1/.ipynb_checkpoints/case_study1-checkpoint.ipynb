{
 "cells": [
  {
   "cell_type": "markdown",
   "metadata": {},
   "source": [
    "# Case Study 1\n",
    "\n",
    "#### Model selection for Clustering\n",
    "\n",
    "Clustering is unsupervised learning: the resulting clusters are completely derived from data distributed in given a feature set with no class available\n",
    "\n",
    "Compared to supervised learning counterparts, it is …\n",
    "* hard to define model performance (cluster quality)\n",
    "* sensitive to different clustering algorithms and different feature spaces.\n",
    "\n",
    "\n",
    "\n",
    "#### Task\n",
    "Your task is to try different clustering algorithms and also a range of the potential parameter(s) which affect the number of clusters including ..\n",
    "\n",
    "* K-means\n",
    "https://scikit-learn.org/stable/modules/generated/sklearn.cluster.KMeans.html\n",
    "* Gaussian Mixture Model, \n",
    "https://scikit-learn.org/stable/modules/generated/sklearn.mixture.GaussianMixture.html#sklearn.mixture.GaussianMixture\n",
    "* Hierarchical Clustering, \n",
    "https://scikit-learn.org/stable/modules/generated/sklearn.cluster.AgglomerativeClustering.html#sklearn.cluster.AgglomerativeClustering\n",
    "* Louvain Clustering, \n",
    "https://scikit-network.readthedocs.io/en/latest/reference/clustering.html#module-sknetwork.clustering\n",
    "\n",
    "on 5K colorectal patches represented by 4 different representation PathologyGAN, ResNet50, InceptionV3 and VGG16\n",
    "\n",
    "\n",
    "#### Data and its preprocessing \n",
    "5,000 non-overlapping image patches from hematoxylin & eosin (H&E) stained histological images of human colorectal cancer (CRC) and normal tissue.\n",
    "* 4 feature sets, PathologyGAN, ResNet50, InceptionV3 and VGG16, are extracted to represent those 5,000 images different dimensional feature spaces.\n",
    "* PCA and UMAP were employed to reduce each feature sapce into 100-dimensional vectors\n",
    "\n",
    "* 9 tissue types are also available which include Adipose (ADI), background (BACK), debris (DEB), lymphocytes (LYM), mucus (MUC), smooth muscle (MUS), normal colon mucosa (NORM), cancer-associated stroma (STR), colorectal adenocarcinoma epithelium (TUM)\n",
    "\n",
    "\n",
    "#### Performance Measurement\n",
    "To assess quality of clustering solutions, several approaches are expected to be done and interpreted which include...\n",
    "* Silhouette Score for goodness of fit test\n",
    "* Vmeasure Score for homogeneity and completeness test (tissue type available as ground truth)\n",
    "* Clusters visualisations\n",
    "\n",
    "For more information, please have a check...\n",
    "https://scikit-learn.org/stable/modules/clustering.html#clustering-performance-evaluation\n",
    "\n",
    "\n",
    "#### Report\n",
    "Report on your preprocessing pipeline, theory and intuition behinds each algorithm and representation, parameter searching and performance evaluation frameworks. If there is any addiotional process, give evidences/justifications on how it helps."
   ]
  },
  {
   "cell_type": "markdown",
   "metadata": {},
   "source": [
    "#### Required Packages"
   ]
  },
  {
   "cell_type": "code",
   "execution_count": 1,
   "metadata": {},
   "outputs": [
    {
     "name": "stdout",
     "output_type": "stream",
     "text": [
      "Requirement already satisfied: h5py==2.10.0 in c:\\users\\aanua\\anaconda3\\lib\\site-packages (2.10.0)\n",
      "Requirement already satisfied: six in c:\\users\\aanua\\anaconda3\\lib\\site-packages (from h5py==2.10.0) (1.15.0)\n",
      "Requirement already satisfied: numpy>=1.7 in c:\\users\\aanua\\appdata\\roaming\\python\\python38\\site-packages (from h5py==2.10.0) (1.23.4)\n",
      "Requirement already satisfied: numpy in c:\\users\\aanua\\appdata\\roaming\\python\\python38\\site-packages (1.23.4)\n",
      "Requirement already satisfied: pandas in c:\\users\\aanua\\anaconda3\\lib\\site-packages (1.2.4)\n",
      "Requirement already satisfied: pytz>=2017.3 in c:\\users\\aanua\\anaconda3\\lib\\site-packages (from pandas) (2021.1)\n",
      "Requirement already satisfied: python-dateutil>=2.7.3 in c:\\users\\aanua\\anaconda3\\lib\\site-packages (from pandas) (2.8.1)\n",
      "Requirement already satisfied: numpy>=1.16.5 in c:\\users\\aanua\\appdata\\roaming\\python\\python38\\site-packages (from pandas) (1.23.4)\n",
      "Requirement already satisfied: six>=1.5 in c:\\users\\aanua\\anaconda3\\lib\\site-packages (from python-dateutil>=2.7.3->pandas) (1.15.0)\n",
      "Collecting sklearn\n",
      "  Downloading sklearn-0.0.post1.tar.gz (3.6 kB)\n",
      "Building wheels for collected packages: sklearn\n",
      "  Building wheel for sklearn (setup.py): started\n",
      "  Building wheel for sklearn (setup.py): finished with status 'done'\n",
      "  Created wheel for sklearn: filename=sklearn-0.0.post1-py3-none-any.whl size=2343 sha256=5d6d4b8b6e1e662b1bd093503669d92d7774b83d0f46cb3fae5fd00b4a19a6cd\n",
      "  Stored in directory: c:\\users\\aanua\\appdata\\local\\pip\\cache\\wheels\\14\\25\\f7\\1cc0956978ae479e75140219088deb7a36f60459df242b1a72\n",
      "Successfully built sklearn\n",
      "Installing collected packages: sklearn\n",
      "Successfully installed sklearn-0.0.post1\n",
      "Collecting scikit-network\n",
      "  Downloading scikit_network-0.28.0-cp38-cp38-win_amd64.whl (3.3 MB)\n",
      "Collecting scipy>=1.7.3\n",
      "  Downloading scipy-1.9.3-cp38-cp38-win_amd64.whl (39.8 MB)\n",
      "Requirement already satisfied: numpy>=1.22.0 in c:\\users\\aanua\\appdata\\roaming\\python\\python38\\site-packages (from scikit-network) (1.23.4)\n",
      "Installing collected packages: scipy, scikit-network\n",
      "  Attempting uninstall: scipy\n",
      "    Found existing installation: scipy 1.6.2\n",
      "    Uninstalling scipy-1.6.2:\n",
      "      Successfully uninstalled scipy-1.6.2\n",
      "Successfully installed scikit-network-0.28.0 scipy-1.9.3\n",
      "Collecting pickle-mixin==1.0.2\n",
      "  Downloading pickle-mixin-1.0.2.tar.gz (5.1 kB)\n",
      "Building wheels for collected packages: pickle-mixin\n",
      "  Building wheel for pickle-mixin (setup.py): started\n",
      "  Building wheel for pickle-mixin (setup.py): finished with status 'done'\n",
      "  Created wheel for pickle-mixin: filename=pickle_mixin-1.0.2-py3-none-any.whl size=5998 sha256=47cb6bec6c6ccb240bbf0150b585d8c895d9bf345e3c422cd760cb26fcf3f437\n",
      "  Stored in directory: c:\\users\\aanua\\appdata\\local\\pip\\cache\\wheels\\2a\\a4\\6c\\83bfbc3b94f1bb43d634b07a6a893fd437a45c58b29aea5142\n",
      "Successfully built pickle-mixin\n",
      "Installing collected packages: pickle-mixin\n",
      "Successfully installed pickle-mixin-1.0.2\n",
      "Requirement already satisfied: matplotlib in c:\\users\\aanua\\anaconda3\\lib\\site-packages (3.3.4)\n",
      "Requirement already satisfied: numpy>=1.15 in c:\\users\\aanua\\appdata\\roaming\\python\\python38\\site-packages (from matplotlib) (1.23.4)\n",
      "Requirement already satisfied: cycler>=0.10 in c:\\users\\aanua\\anaconda3\\lib\\site-packages (from matplotlib) (0.10.0)\n",
      "Requirement already satisfied: python-dateutil>=2.1 in c:\\users\\aanua\\anaconda3\\lib\\site-packages (from matplotlib) (2.8.1)\n",
      "Requirement already satisfied: pyparsing!=2.0.4,!=2.1.2,!=2.1.6,>=2.0.3 in c:\\users\\aanua\\anaconda3\\lib\\site-packages (from matplotlib) (2.4.7)\n",
      "Requirement already satisfied: pillow>=6.2.0 in c:\\users\\aanua\\anaconda3\\lib\\site-packages (from matplotlib) (8.2.0)\n",
      "Requirement already satisfied: kiwisolver>=1.0.1 in c:\\users\\aanua\\anaconda3\\lib\\site-packages (from matplotlib) (1.3.1)\n",
      "Requirement already satisfied: six in c:\\users\\aanua\\anaconda3\\lib\\site-packages (from cycler>=0.10->matplotlib) (1.15.0)\n",
      "Collecting plotly\n",
      "  Downloading plotly-5.11.0-py2.py3-none-any.whl (15.3 MB)\n",
      "Collecting tenacity>=6.2.0\n",
      "  Using cached tenacity-8.1.0-py3-none-any.whl (23 kB)\n",
      "Installing collected packages: tenacity, plotly\n",
      "Successfully installed plotly-5.11.0 tenacity-8.1.0\n"
     ]
    }
   ],
   "source": [
    "!pip install h5py==2.10.0\n",
    "!pip install numpy\n",
    "!pip install pandas\n",
    "!pip install sklearn\n",
    "!pip install scikit-network\n",
    "!pip install pickle-mixin==1.0.2\n",
    "!pip install matplotlib\n",
    "!pip install plotly"
   ]
  },
  {
   "cell_type": "markdown",
   "metadata": {},
   "source": [
    "### Prepare Tissue Representations"
   ]
  },
  {
   "cell_type": "code",
   "execution_count": 2,
   "metadata": {},
   "outputs": [],
   "source": [
    "import h5py\n",
    "import numpy as np\n",
    "import pickle"
   ]
  },
  {
   "cell_type": "code",
   "execution_count": 30,
   "metadata": {},
   "outputs": [],
   "source": [
    "pge_path = 'colon_nct_feature/pge_dim_reduced_feature.h5'\n",
    "resnet50_path = 'colon_nct_feature/resnet50_dim_reduced_feature.h5'\n",
    "inceptionv3_path = 'colon_nct_feature/inceptionv3_dim_reduced_feature.h5'\n",
    "vgg16_path = 'colon_nct_feature/vgg16_dim_reduced_feature.h5'\n",
    "\n",
    "pge_content = h5py.File(pge_path, mode='r')\n",
    "resnet50_content = h5py.File(resnet50_path, mode='r')\n",
    "inceptionv3_content = h5py.File(inceptionv3_path, mode='r')\n",
    "vgg16_content = h5py.File(vgg16_path, mode='r')\n"
   ]
  },
  {
   "cell_type": "code",
   "execution_count": 31,
   "metadata": {},
   "outputs": [
    {
     "data": {
      "text/plain": [
       "<HDF5 file \"vgg16_dim_reduced_feature.h5\" (mode r)>"
      ]
     },
     "execution_count": 31,
     "metadata": {},
     "output_type": "execute_result"
    }
   ],
   "source": [
    "vgg16_content"
   ]
  },
  {
   "cell_type": "code",
   "execution_count": 32,
   "metadata": {},
   "outputs": [],
   "source": [
    "#PCA feature from 4 feature sets: pge_latent, resnet50_latent, inceptionv3_latent, vgg16_latent\n",
    "pge_pca_feature  = pge_content['pca_feature'][...]\n",
    "resnet50_pca_feature  = resnet50_content['pca_feature'][...]\n",
    "inceptionv3_pca_feature = inceptionv3_content['pca_feature'][...]\n",
    "vgg16_pca_feature  = vgg16_content['pca_feature'][...]"
   ]
  },
  {
   "cell_type": "code",
   "execution_count": 33,
   "metadata": {},
   "outputs": [
    {
     "data": {
      "text/plain": [
       "array([[ -90.864815 ,  107.03243  ,  116.16385  , ...,    8.259951 ,\n",
       "          -1.1383446,   -9.175951 ],\n",
       "       [ -74.06226  ,  117.31615  ,   95.24547  , ...,   -1.9739974,\n",
       "           6.8172655,    4.2547903],\n",
       "       [ -81.875336 ,  122.84872  ,   83.767784 , ...,   -1.3287221,\n",
       "          13.65623  ,  -11.109545 ],\n",
       "       ...,\n",
       "       [  32.70835  ,   31.183935 ,  -47.30978  , ...,    4.2004256,\n",
       "           3.599823 ,    6.0058775],\n",
       "       [ -39.911785 , -105.81029  ,  122.37118  , ...,  -14.908715 ,\n",
       "          -1.1814455,  -10.837135 ],\n",
       "       [  32.35425  ,  -50.3373   ,   66.50197  , ...,   -3.859397 ,\n",
       "          -1.047523 ,    2.3827858]], dtype=float32)"
      ]
     },
     "execution_count": 33,
     "metadata": {},
     "output_type": "execute_result"
    }
   ],
   "source": [
    "vgg16_pca_feature"
   ]
  },
  {
   "cell_type": "code",
   "execution_count": 34,
   "metadata": {},
   "outputs": [],
   "source": [
    "#UMAP feature from 4 feature sets: pge_latent, resnet50_latent, inceptionv3_latent, vgg16_latent\n",
    "pge_umap_feature  = pge_content['umap_feature'][...]\n",
    "resnet50_umap_feature = resnet50_content['umap_feature'][...]\n",
    "inceptionv3_umap_feature  = inceptionv3_content['umap_feature'][...]\n",
    "vgg16_umap_feature  = vgg16_content['umap_feature'][...]"
   ]
  },
  {
   "cell_type": "code",
   "execution_count": 35,
   "metadata": {},
   "outputs": [
    {
     "data": {
      "text/plain": [
       "array(['ADI', 'ADI', 'ADI', ..., 'TUM', 'TUM', 'TUM'], dtype='<U4')"
      ]
     },
     "execution_count": 35,
     "metadata": {},
     "output_type": "execute_result"
    }
   ],
   "source": [
    "#tissue type as available ground-truth: labels\n",
    "filename  = np.squeeze(pge_content['file_name'])\n",
    "filename = np.array([str(x) for x in filename])\n",
    "labels = np.array([x.split('/')[2] for x in filename])\n",
    "labels"
   ]
  },
  {
   "cell_type": "markdown",
   "metadata": {},
   "source": [
    "# Example"
   ]
  },
  {
   "cell_type": "code",
   "execution_count": 36,
   "metadata": {},
   "outputs": [],
   "source": [
    "import random"
   ]
  },
  {
   "cell_type": "code",
   "execution_count": 37,
   "metadata": {},
   "outputs": [],
   "source": [
    "random.seed(0)\n",
    "selected_index = random.sample(list(np.arange(len(pge_pca_feature))), 200)"
   ]
  },
  {
   "cell_type": "code",
   "execution_count": 38,
   "metadata": {},
   "outputs": [],
   "source": [
    "test_data = pge_pca_feature[selected_index]\n",
    "test_label = labels[selected_index]"
   ]
  },
  {
   "cell_type": "markdown",
   "metadata": {},
   "source": [
    "### Exploratory Analysis"
   ]
  },
  {
   "cell_type": "code",
   "execution_count": 39,
   "metadata": {},
   "outputs": [],
   "source": [
    "import plotly.graph_objects as go\n",
    "import pandas as pd"
   ]
  },
  {
   "cell_type": "code",
   "execution_count": 40,
   "metadata": {},
   "outputs": [
    {
     "name": "stderr",
     "output_type": "stream",
     "text": [
      "/Users/keyuan/opt/anaconda3/lib/python3.9/site-packages/plotly/graph_objs/_deprecations.py:31: DeprecationWarning:\n",
      "\n",
      "plotly.graph_objs.Data is deprecated.\n",
      "Please replace it with a list or tuple of instances of the following types\n",
      "  - plotly.graph_objs.Scatter\n",
      "  - plotly.graph_objs.Bar\n",
      "  - plotly.graph_objs.Area\n",
      "  - plotly.graph_objs.Histogram\n",
      "  - etc.\n",
      "\n",
      "\n",
      "/Users/keyuan/opt/anaconda3/lib/python3.9/site-packages/plotly/graph_objs/_deprecations.py:489: DeprecationWarning:\n",
      "\n",
      "plotly.graph_objs.Scene is deprecated.\n",
      "Please replace it with one of the following more specific types\n",
      "  - plotly.graph_objs.layout.Scene\n",
      "\n",
      "\n"
     ]
    },
    {
     "data": {
      "application/vnd.plotly.v1+json": {
       "config": {
        "plotlyServerURL": "https://plot.ly"
       },
       "data": [
        {
         "marker": {
          "opacity": 0.8,
          "size": 4
         },
         "mode": "markers",
         "name": "ADI",
         "type": "scatter3d",
         "x": [
          -2.80910325050354,
          -3.5107946395874023,
          -2.540876626968384,
          -2.466106414794922,
          -0.4942999482154846,
          -2.5766615867614746,
          -2.515319347381592,
          -2.4500153064727783,
          -3.4240779876708984,
          -2.6738908290863037,
          -2.4760935306549072,
          -3.14597749710083,
          -2.6527116298675537,
          -2.2297441959381104,
          -2.20523738861084,
          -2.8100199699401855,
          -2.110729455947876,
          -1.0982666015625,
          -2.482320547103882,
          -2.7989208698272705
         ],
         "y": [
          1.641084909439087,
          2.095238447189331,
          0.6980736255645752,
          1.1305599212646484,
          0.29047855734825134,
          -0.0504959337413311,
          0.9154621362686157,
          1.9379597902297974,
          1.223361611366272,
          1.4871126413345337,
          1.0783816576004028,
          1.2370116710662842,
          0.7089271545410156,
          0.9724736213684082,
          0.4453190267086029,
          1.3596603870391846,
          0.9256184101104736,
          -0.7673229575157166,
          1.21478271484375,
          1.0915733575820923
         ],
         "z": [
          -1.6792036294937134,
          -1.1832021474838257,
          -1.9788157939910889,
          -1.9436942338943481,
          -0.46169668436050415,
          -1.2491406202316284,
          -1.8460683822631836,
          -0.769687294960022,
          -0.5930798053741455,
          -1.4590485095977783,
          -1.2425991296768188,
          -0.31574583053588867,
          -1.342515468597412,
          -1.4953522682189941,
          -2.531210422515869,
          -0.9483823776245117,
          -1.1083091497421265,
          -2.3734583854675293,
          -1.7588921785354614,
          -1.43263578414917
         ]
        },
        {
         "marker": {
          "opacity": 0.8,
          "size": 4
         },
         "mode": "markers",
         "name": "BACK",
         "type": "scatter3d",
         "x": [
          -2.8042843341827393,
          0.8385344743728638,
          -3.437290668487549,
          -3.1348464488983154,
          0.7314002513885498,
          -2.147923469543457,
          -2.3230206966400146,
          -0.8257145881652832,
          -2.785698413848877,
          -2.7182464599609375,
          -2.6656105518341064,
          -1.7403383255004883,
          -0.1851545125246048,
          -3.2624528408050537,
          0.560878574848175,
          -2.000267267227173,
          -3.39613938331604,
          -2.7366838455200195,
          -2.9919610023498535,
          -1.9951847791671753,
          -3.4248368740081787,
          -3.0863757133483887,
          -3.438183307647705,
          -1.8699625730514526,
          -3.074002504348755,
          -2.666363000869751,
          -3.3237197399139404,
          -2.7485477924346924,
          -2.129458427429199
         ],
         "y": [
          -1.3386635780334473,
          -0.44277986884117126,
          -0.34917590022087097,
          -0.5737688541412354,
          0.202111154794693,
          3.0612497329711914,
          -0.7469519376754761,
          2.140403985977173,
          -0.5729371905326843,
          -0.6371952891349792,
          -1.3187475204467773,
          2.8922226428985596,
          -1.3877997398376465,
          -0.27803394198417664,
          3.135702610015869,
          2.0205066204071045,
          -0.3462461531162262,
          -1.1293288469314575,
          -0.0914870873093605,
          2.5647084712982178,
          0.3548954129219055,
          -0.2342482954263687,
          0.2809958755970001,
          4.790000915527344,
          0.486345112323761,
          0.07931797206401825,
          0.17615391314029694,
          -0.15286961197853088,
          -0.0032860920764505863
         ],
         "z": [
          -1.5004860162734985,
          -2.9620444774627686,
          0.3747452199459076,
          -0.6676859855651855,
          -0.4262874722480774,
          0.03439986705780029,
          -1.244189739227295,
          -0.5851277112960815,
          0.4523427486419678,
          0.21515953540802002,
          -0.5012557506561279,
          -0.2700692415237427,
          -2.6020498275756836,
          0.1898866891860962,
          0.6878861784934998,
          -1.1515488624572754,
          -0.06945113092660904,
          -0.5515846610069275,
          0.4076254665851593,
          -0.2179465889930725,
          0.7451879978179932,
          0.0441930815577507,
          0.23133385181427002,
          -0.3493310809135437,
          -0.12264461815357208,
          0.1522737592458725,
          0.2922041118144989,
          0.6666591167449951,
          0.6146443486213684
         ]
        },
        {
         "marker": {
          "opacity": 0.8,
          "size": 4
         },
         "mode": "markers",
         "name": "DEB",
         "type": "scatter3d",
         "x": [
          -0.949601411819458,
          -0.653144359588623,
          -0.992447555065155,
          -2.0278947353363037,
          2.670332193374634,
          -0.1636441946029663,
          1.5869381427764893,
          -0.4948872923851013,
          -1.5119367837905884,
          1.3880749940872192,
          -1.1581059694290161,
          4.438055515289307,
          -1.115469217300415,
          -2.431694269180298,
          -2.2375295162200928,
          -1.995535135269165,
          1.7805414199829102,
          -1.1487576961517334,
          0.12503202259540558,
          -2.0510294437408447,
          2.1888651847839355
         ],
         "y": [
          -1.74832022190094,
          -1.7916929721832275,
          -1.6330013275146484,
          -1.2618733644485474,
          -0.2304566353559494,
          -0.9714247584342957,
          -0.15573427081108093,
          -2.148298501968384,
          0.20254573225975037,
          1.719498872756958,
          -0.7978692650794983,
          -1.0995359420776367,
          -1.5374306440353394,
          -0.446001797914505,
          -1.486035943031311,
          -1.3105318546295166,
          6.373378753662109,
          -1.0548309087753296,
          -2.0928399562835693,
          -1.0958093404769897,
          0.5248071551322937
         ],
         "z": [
          0.6196725368499756,
          0.4250074625015259,
          1.6308354139328003,
          0.4354446828365326,
          -0.42151781916618347,
          -1.0496264696121216,
          -0.9445487260818481,
          0.2361324280500412,
          -0.04571620374917984,
          0.7638567686080933,
          1.5331089496612549,
          -0.8454372882843018,
          0.07552725821733475,
          -0.2614552080631256,
          1.3643172979354858,
          1.1603158712387085,
          1.2013646364212036,
          -0.47173166275024414,
          0.8806122541427612,
          0.369162917137146,
          0.1365313082933426
         ]
        },
        {
         "marker": {
          "opacity": 0.8,
          "size": 4
         },
         "mode": "markers",
         "name": "LYM",
         "type": "scatter3d",
         "x": [
          8.317464828491211,
          1.9302431344985962,
          5.693930149078369,
          4.7158355712890625,
          6.5534234046936035,
          6.03725528717041,
          4.379756450653076,
          7.215152263641357,
          5.891232967376709,
          2.568795919418335,
          9.089051246643066,
          7.78715181350708,
          5.944592475891113,
          2.5507049560546875,
          2.358452320098877,
          3.8699355125427246,
          5.171095848083496,
          8.048303604125977,
          3.082335948944092,
          1.5726706981658936,
          5.506684303283691,
          8.415162086486816,
          3.8205440044403076,
          4.755460262298584
         ],
         "y": [
          0.49578890204429626,
          -0.6899961829185486,
          -0.3507034480571747,
          1.3090718984603882,
          0.3216196894645691,
          -0.08638095110654831,
          -0.19609028100967407,
          2.201855182647705,
          0.24356892704963684,
          -1.1731953620910645,
          1.2077538967132568,
          0.6078155636787415,
          4.0083231925964355,
          2.342583656311035,
          -1.2840025424957275,
          -2.078395366668701,
          2.0957047939300537,
          1.2301161289215088,
          -1.6841869354248047,
          -0.6454808712005615,
          0.31266045570373535,
          1.4713590145111084,
          -1.4674891233444214,
          -0.23318402469158173
         ],
         "z": [
          -0.5414592623710632,
          -1.8226772546768188,
          -0.9104019403457642,
          0.41950032114982605,
          0.4398237466812134,
          -0.805705189704895,
          -1.1106138229370117,
          -1.0050157308578491,
          -0.4814695417881012,
          -0.6272109746932983,
          -0.9224023818969727,
          -1.079860806465149,
          -0.2964570224285126,
          0.652327835559845,
          -0.8065783977508545,
          -1.4690663814544678,
          -0.42504778504371643,
          -1.9550151824951172,
          -1.4759832620620728,
          -1.8956828117370605,
          -0.3884112536907196,
          -0.28090932965278625,
          -0.8909381628036499,
          -1.1223649978637695
         ]
        },
        {
         "marker": {
          "opacity": 0.8,
          "size": 4
         },
         "mode": "markers",
         "name": "MUC",
         "type": "scatter3d",
         "x": [
          -2.811310291290283,
          -1.4364233016967773,
          -1.9444092512130737,
          -3.0520989894866943,
          7.311782360076904,
          -2.1481053829193115,
          4.0519328117370605,
          -2.3227415084838867,
          -2.469416618347168,
          -2.1080422401428223,
          0.5912961363792419,
          -2.0037219524383545,
          -0.980537474155426,
          -1.0481783151626587,
          1.956563115119934
         ],
         "y": [
          0.6740286350250244,
          -0.34565263986587524,
          -0.24497665464878082,
          3.142521381378174,
          2.66701340675354,
          0.41702601313591003,
          -0.9423514604568481,
          -0.2540041506290436,
          0.3367685079574585,
          -0.010101006366312504,
          -0.07010903209447861,
          0.16474393010139465,
          0.6430789232254028,
          -0.4632924497127533,
          -0.629684329032898
         ],
         "z": [
          -1.263016939163208,
          0.2728184461593628,
          -1.7957689762115479,
          1.0725940465927124,
          -0.4788314402103424,
          0.6142954230308533,
          2.0309605598449707,
          -0.6366668939590454,
          -0.009603375568985939,
          -0.7294905781745911,
          -0.7601697444915771,
          -1.50285804271698,
          2.508153200149536,
          -1.918059229850769,
          3.2956290245056152
         ]
        },
        {
         "marker": {
          "opacity": 0.8,
          "size": 4
         },
         "mode": "markers",
         "name": "MUS",
         "type": "scatter3d",
         "x": [
          -2.826046943664551,
          -2.545809745788574,
          0.5151179432868958,
          -2.2149829864501953,
          0.907294511795044,
          -2.4368152618408203,
          -1.1363848447799683,
          1.8474656343460083,
          -0.8152084350585938,
          -0.3645562529563904,
          -1.6930421590805054,
          -1.8597511053085327,
          -0.929050087928772,
          -1.482484221458435,
          1.5186933279037476,
          -1.1580017805099487,
          -0.3202328383922577,
          -1.2648730278015137,
          -1.4349876642227173,
          -1.0011721849441528,
          -0.9460918307304382,
          -1.3156172037124634,
          1.5165282487869263,
          -0.8964354395866394
         ],
         "y": [
          -1.067091941833496,
          0.3897300660610199,
          3.1649465560913086,
          -0.05394352599978447,
          0.898815929889679,
          1.427390694618225,
          2.7882919311523438,
          3.5381200313568115,
          -1.5054104328155518,
          -1.1942888498306274,
          -1.7118566036224365,
          0.5798163414001465,
          -1.2957618236541748,
          -1.384553074836731,
          1.3316994905471802,
          1.1737430095672607,
          -0.6555736660957336,
          -1.0392847061157227,
          -0.76240074634552,
          -1.148558259010315,
          -1.3991590738296509,
          -1.2166528701782227,
          -1.9325599670410156,
          -1.6799780130386353
         ],
         "z": [
          1.5014948844909668,
          1.0694074630737305,
          4.4743218421936035,
          0.501203179359436,
          3.9681665897369385,
          -0.38852018117904663,
          2.0195465087890625,
          -0.7053205966949463,
          -1.9089176654815674,
          0.4381464421749115,
          1.8647730350494385,
          1.2740355730056763,
          2.9712226390838623,
          2.2882416248321533,
          3.3144803047180176,
          -0.7376317977905273,
          -2.912081241607666,
          -0.9471005201339722,
          -1.7320901155471802,
          -4.187099456787109,
          0.8555601239204407,
          -2.0876636505126953,
          0.8368980884552002,
          -0.3288414180278778
         ]
        },
        {
         "marker": {
          "opacity": 0.8,
          "size": 4
         },
         "mode": "markers",
         "name": "NORM",
         "type": "scatter3d",
         "x": [
          -0.6603190898895264,
          3.1558170318603516,
          -1.0971190929412842,
          -0.22669823467731476,
          -0.18013377487659454,
          4.254236698150635,
          3.478296995162964,
          4.454375743865967,
          2.961278200149536,
          5.0351738929748535,
          2.226635694503784,
          3.0865349769592285,
          -0.625483512878418
         ],
         "y": [
          5.520968914031982,
          0.9273907542228699,
          1.2149876356124878,
          1.3312077522277832,
          0.2269643247127533,
          -0.9131682515144348,
          -0.5726996660232544,
          1.1185550689697266,
          1.6113225221633911,
          2.2628769874572754,
          1.50869882106781,
          -0.48633378744125366,
          1.7492738962173462
         ],
         "z": [
          0.8663725256919861,
          -0.848366916179657,
          1.5529272556304932,
          0.5130269527435303,
          0.32849955558776855,
          -0.759674072265625,
          -0.7392110228538513,
          0.9640799164772034,
          -0.8865923285484314,
          1.180433750152588,
          -0.6991420984268188,
          0.20462387800216675,
          -0.03885919973254204
         ]
        },
        {
         "marker": {
          "opacity": 0.8,
          "size": 4
         },
         "mode": "markers",
         "name": "STR",
         "type": "scatter3d",
         "x": [
          -1.6992220878601074,
          -2.1843457221984863,
          -0.8840118050575256,
          0.8265144228935242,
          -1.7924840450286865,
          -1.1162184476852417,
          -1.6072357892990112,
          0.44033700227737427,
          -1.5767693519592285,
          -2.118816375732422,
          -1.5423022508621216,
          -1.0166280269622803,
          -1.2150081396102905,
          -0.16175879538059235,
          -0.4319313168525696,
          -2.21907901763916,
          -1.298270583152771,
          -1.0682727098464966
         ],
         "y": [
          -1.9958336353302002,
          0.6414546966552734,
          -1.1497048139572144,
          -1.642641544342041,
          -1.6496585607528687,
          -1.5298842191696167,
          -0.4715363085269928,
          -1.4050674438476562,
          -0.8323615193367004,
          0.026942741125822067,
          -2.4296984672546387,
          -1.125867486000061,
          -1.8682504892349243,
          -1.4609904289245605,
          -1.2910897731781006,
          -0.4727605879306793,
          -1.5226798057556152,
          -1.8274949789047241
         ],
         "z": [
          0.3162650167942047,
          1.7459235191345215,
          1.5335009098052979,
          1.7262014150619507,
          -1.0417574644088745,
          -0.26611796021461487,
          -0.6813101172447205,
          0.4567407965660095,
          0.5321458578109741,
          0.9864225387573242,
          -0.4028305113315582,
          0.08562818169593811,
          0.27913063764572144,
          1.947022557258606,
          -2.1030995845794678,
          1.6492931842803955,
          -0.8635166883468628,
          1.2377198934555054
         ]
        },
        {
         "marker": {
          "opacity": 0.8,
          "size": 4
         },
         "mode": "markers",
         "name": "TUM",
         "type": "scatter3d",
         "x": [
          5.282077789306641,
          3.5683329105377197,
          4.8515167236328125,
          0.7841576933860779,
          5.955626487731934,
          3.5823004245758057,
          4.746068000793457,
          0.34536460041999817,
          3.163618326187134,
          4.240563869476318,
          1.640069603919983,
          3.6987335681915283,
          2.980156421661377,
          -0.5177138447761536,
          1.9616448879241943,
          1.1999833583831787,
          0.1784152388572693,
          3.4881343841552734,
          -0.7874645590782166,
          3.2776334285736084,
          2.682187080383301,
          3.2031800746917725,
          4.555750846862793,
          2.967742443084717,
          3.5071651935577393,
          -0.38065633177757263,
          1.3866370916366577,
          5.726469993591309,
          1.0309338569641113,
          2.49501895904541,
          5.049384593963623,
          0.7600491046905518,
          0.05018305405974388,
          3.0489213466644287,
          0.2961072623729706,
          0.9085349440574646
         ],
         "y": [
          -0.31221577525138855,
          -1.2266201972961426,
          1.5937894582748413,
          -0.11093439161777496,
          2.426994562149048,
          -0.8039520382881165,
          -1.4145723581314087,
          -2.4228954315185547,
          -0.4624347388744354,
          -0.9779943823814392,
          -0.9540731906890869,
          -0.9110185503959656,
          -2.025421380996704,
          -0.4811004400253296,
          0.16412410140037537,
          -1.7087650299072266,
          -2.0290091037750244,
          -0.33475053310394287,
          -1.7365187406539917,
          1.3622560501098633,
          -1.3244907855987549,
          2.7908382415771484,
          -0.6850056648254395,
          -1.1832385063171387,
          0.8240606188774109,
          -2.13202166557312,
          -0.24204504489898682,
          1.8622276782989502,
          0.6859128475189209,
          -1.5948601961135864,
          -1.0344979763031006,
          -1.729380488395691,
          2.5404114723205566,
          -1.6344274282455444,
          -2.6649022102355957,
          -1.8437764644622803
         ],
         "z": [
          -0.45349565148353577,
          1.5863803625106812,
          1.1532440185546875,
          0.6260252594947815,
          -0.608002781867981,
          -0.5616295337677002,
          -0.36129456758499146,
          -0.030400888994336128,
          0.5448715090751648,
          0.23279401659965515,
          1.2286672592163086,
          -0.5922850370407104,
          0.8439737558364868,
          -1.9362295866012573,
          -1.0513967275619507,
          0.9188126921653748,
          0.426249623298645,
          1.6245808601379395,
          0.6412115693092346,
          0.770486056804657,
          2.125746250152588,
          0.9386202096939087,
          -1.4899017810821533,
          -0.05740664526820183,
          2.211939573287964,
          1.3128868341445923,
          1.4493720531463623,
          0.3399445414543152,
          1.000885248184204,
          0.5436438918113708,
          0.46317851543426514,
          0.056854091584682465,
          0.8496703505516052,
          1.04273521900177,
          0.4831208288669586,
          0.4202795624732971
         ]
        }
       ],
       "layout": {
        "legend": {
         "title": {
          "text": "Legend Title"
         }
        },
        "scene": {
         "xaxis": {
          "title": {
           "text": "PC1"
          }
         },
         "yaxis": {
          "title": {
           "text": "PC2"
          }
         },
         "zaxis": {
          "title": {
           "text": "PC3"
          }
         }
        },
        "showlegend": true,
        "template": {
         "data": {
          "bar": [
           {
            "error_x": {
             "color": "#2a3f5f"
            },
            "error_y": {
             "color": "#2a3f5f"
            },
            "marker": {
             "line": {
              "color": "#E5ECF6",
              "width": 0.5
             },
             "pattern": {
              "fillmode": "overlay",
              "size": 10,
              "solidity": 0.2
             }
            },
            "type": "bar"
           }
          ],
          "barpolar": [
           {
            "marker": {
             "line": {
              "color": "#E5ECF6",
              "width": 0.5
             },
             "pattern": {
              "fillmode": "overlay",
              "size": 10,
              "solidity": 0.2
             }
            },
            "type": "barpolar"
           }
          ],
          "carpet": [
           {
            "aaxis": {
             "endlinecolor": "#2a3f5f",
             "gridcolor": "white",
             "linecolor": "white",
             "minorgridcolor": "white",
             "startlinecolor": "#2a3f5f"
            },
            "baxis": {
             "endlinecolor": "#2a3f5f",
             "gridcolor": "white",
             "linecolor": "white",
             "minorgridcolor": "white",
             "startlinecolor": "#2a3f5f"
            },
            "type": "carpet"
           }
          ],
          "choropleth": [
           {
            "colorbar": {
             "outlinewidth": 0,
             "ticks": ""
            },
            "type": "choropleth"
           }
          ],
          "contour": [
           {
            "colorbar": {
             "outlinewidth": 0,
             "ticks": ""
            },
            "colorscale": [
             [
              0,
              "#0d0887"
             ],
             [
              0.1111111111111111,
              "#46039f"
             ],
             [
              0.2222222222222222,
              "#7201a8"
             ],
             [
              0.3333333333333333,
              "#9c179e"
             ],
             [
              0.4444444444444444,
              "#bd3786"
             ],
             [
              0.5555555555555556,
              "#d8576b"
             ],
             [
              0.6666666666666666,
              "#ed7953"
             ],
             [
              0.7777777777777778,
              "#fb9f3a"
             ],
             [
              0.8888888888888888,
              "#fdca26"
             ],
             [
              1,
              "#f0f921"
             ]
            ],
            "type": "contour"
           }
          ],
          "contourcarpet": [
           {
            "colorbar": {
             "outlinewidth": 0,
             "ticks": ""
            },
            "type": "contourcarpet"
           }
          ],
          "heatmap": [
           {
            "colorbar": {
             "outlinewidth": 0,
             "ticks": ""
            },
            "colorscale": [
             [
              0,
              "#0d0887"
             ],
             [
              0.1111111111111111,
              "#46039f"
             ],
             [
              0.2222222222222222,
              "#7201a8"
             ],
             [
              0.3333333333333333,
              "#9c179e"
             ],
             [
              0.4444444444444444,
              "#bd3786"
             ],
             [
              0.5555555555555556,
              "#d8576b"
             ],
             [
              0.6666666666666666,
              "#ed7953"
             ],
             [
              0.7777777777777778,
              "#fb9f3a"
             ],
             [
              0.8888888888888888,
              "#fdca26"
             ],
             [
              1,
              "#f0f921"
             ]
            ],
            "type": "heatmap"
           }
          ],
          "heatmapgl": [
           {
            "colorbar": {
             "outlinewidth": 0,
             "ticks": ""
            },
            "colorscale": [
             [
              0,
              "#0d0887"
             ],
             [
              0.1111111111111111,
              "#46039f"
             ],
             [
              0.2222222222222222,
              "#7201a8"
             ],
             [
              0.3333333333333333,
              "#9c179e"
             ],
             [
              0.4444444444444444,
              "#bd3786"
             ],
             [
              0.5555555555555556,
              "#d8576b"
             ],
             [
              0.6666666666666666,
              "#ed7953"
             ],
             [
              0.7777777777777778,
              "#fb9f3a"
             ],
             [
              0.8888888888888888,
              "#fdca26"
             ],
             [
              1,
              "#f0f921"
             ]
            ],
            "type": "heatmapgl"
           }
          ],
          "histogram": [
           {
            "marker": {
             "pattern": {
              "fillmode": "overlay",
              "size": 10,
              "solidity": 0.2
             }
            },
            "type": "histogram"
           }
          ],
          "histogram2d": [
           {
            "colorbar": {
             "outlinewidth": 0,
             "ticks": ""
            },
            "colorscale": [
             [
              0,
              "#0d0887"
             ],
             [
              0.1111111111111111,
              "#46039f"
             ],
             [
              0.2222222222222222,
              "#7201a8"
             ],
             [
              0.3333333333333333,
              "#9c179e"
             ],
             [
              0.4444444444444444,
              "#bd3786"
             ],
             [
              0.5555555555555556,
              "#d8576b"
             ],
             [
              0.6666666666666666,
              "#ed7953"
             ],
             [
              0.7777777777777778,
              "#fb9f3a"
             ],
             [
              0.8888888888888888,
              "#fdca26"
             ],
             [
              1,
              "#f0f921"
             ]
            ],
            "type": "histogram2d"
           }
          ],
          "histogram2dcontour": [
           {
            "colorbar": {
             "outlinewidth": 0,
             "ticks": ""
            },
            "colorscale": [
             [
              0,
              "#0d0887"
             ],
             [
              0.1111111111111111,
              "#46039f"
             ],
             [
              0.2222222222222222,
              "#7201a8"
             ],
             [
              0.3333333333333333,
              "#9c179e"
             ],
             [
              0.4444444444444444,
              "#bd3786"
             ],
             [
              0.5555555555555556,
              "#d8576b"
             ],
             [
              0.6666666666666666,
              "#ed7953"
             ],
             [
              0.7777777777777778,
              "#fb9f3a"
             ],
             [
              0.8888888888888888,
              "#fdca26"
             ],
             [
              1,
              "#f0f921"
             ]
            ],
            "type": "histogram2dcontour"
           }
          ],
          "mesh3d": [
           {
            "colorbar": {
             "outlinewidth": 0,
             "ticks": ""
            },
            "type": "mesh3d"
           }
          ],
          "parcoords": [
           {
            "line": {
             "colorbar": {
              "outlinewidth": 0,
              "ticks": ""
             }
            },
            "type": "parcoords"
           }
          ],
          "pie": [
           {
            "automargin": true,
            "type": "pie"
           }
          ],
          "scatter": [
           {
            "fillpattern": {
             "fillmode": "overlay",
             "size": 10,
             "solidity": 0.2
            },
            "type": "scatter"
           }
          ],
          "scatter3d": [
           {
            "line": {
             "colorbar": {
              "outlinewidth": 0,
              "ticks": ""
             }
            },
            "marker": {
             "colorbar": {
              "outlinewidth": 0,
              "ticks": ""
             }
            },
            "type": "scatter3d"
           }
          ],
          "scattercarpet": [
           {
            "marker": {
             "colorbar": {
              "outlinewidth": 0,
              "ticks": ""
             }
            },
            "type": "scattercarpet"
           }
          ],
          "scattergeo": [
           {
            "marker": {
             "colorbar": {
              "outlinewidth": 0,
              "ticks": ""
             }
            },
            "type": "scattergeo"
           }
          ],
          "scattergl": [
           {
            "marker": {
             "colorbar": {
              "outlinewidth": 0,
              "ticks": ""
             }
            },
            "type": "scattergl"
           }
          ],
          "scattermapbox": [
           {
            "marker": {
             "colorbar": {
              "outlinewidth": 0,
              "ticks": ""
             }
            },
            "type": "scattermapbox"
           }
          ],
          "scatterpolar": [
           {
            "marker": {
             "colorbar": {
              "outlinewidth": 0,
              "ticks": ""
             }
            },
            "type": "scatterpolar"
           }
          ],
          "scatterpolargl": [
           {
            "marker": {
             "colorbar": {
              "outlinewidth": 0,
              "ticks": ""
             }
            },
            "type": "scatterpolargl"
           }
          ],
          "scatterternary": [
           {
            "marker": {
             "colorbar": {
              "outlinewidth": 0,
              "ticks": ""
             }
            },
            "type": "scatterternary"
           }
          ],
          "surface": [
           {
            "colorbar": {
             "outlinewidth": 0,
             "ticks": ""
            },
            "colorscale": [
             [
              0,
              "#0d0887"
             ],
             [
              0.1111111111111111,
              "#46039f"
             ],
             [
              0.2222222222222222,
              "#7201a8"
             ],
             [
              0.3333333333333333,
              "#9c179e"
             ],
             [
              0.4444444444444444,
              "#bd3786"
             ],
             [
              0.5555555555555556,
              "#d8576b"
             ],
             [
              0.6666666666666666,
              "#ed7953"
             ],
             [
              0.7777777777777778,
              "#fb9f3a"
             ],
             [
              0.8888888888888888,
              "#fdca26"
             ],
             [
              1,
              "#f0f921"
             ]
            ],
            "type": "surface"
           }
          ],
          "table": [
           {
            "cells": {
             "fill": {
              "color": "#EBF0F8"
             },
             "line": {
              "color": "white"
             }
            },
            "header": {
             "fill": {
              "color": "#C8D4E3"
             },
             "line": {
              "color": "white"
             }
            },
            "type": "table"
           }
          ]
         },
         "layout": {
          "annotationdefaults": {
           "arrowcolor": "#2a3f5f",
           "arrowhead": 0,
           "arrowwidth": 1
          },
          "autotypenumbers": "strict",
          "coloraxis": {
           "colorbar": {
            "outlinewidth": 0,
            "ticks": ""
           }
          },
          "colorscale": {
           "diverging": [
            [
             0,
             "#8e0152"
            ],
            [
             0.1,
             "#c51b7d"
            ],
            [
             0.2,
             "#de77ae"
            ],
            [
             0.3,
             "#f1b6da"
            ],
            [
             0.4,
             "#fde0ef"
            ],
            [
             0.5,
             "#f7f7f7"
            ],
            [
             0.6,
             "#e6f5d0"
            ],
            [
             0.7,
             "#b8e186"
            ],
            [
             0.8,
             "#7fbc41"
            ],
            [
             0.9,
             "#4d9221"
            ],
            [
             1,
             "#276419"
            ]
           ],
           "sequential": [
            [
             0,
             "#0d0887"
            ],
            [
             0.1111111111111111,
             "#46039f"
            ],
            [
             0.2222222222222222,
             "#7201a8"
            ],
            [
             0.3333333333333333,
             "#9c179e"
            ],
            [
             0.4444444444444444,
             "#bd3786"
            ],
            [
             0.5555555555555556,
             "#d8576b"
            ],
            [
             0.6666666666666666,
             "#ed7953"
            ],
            [
             0.7777777777777778,
             "#fb9f3a"
            ],
            [
             0.8888888888888888,
             "#fdca26"
            ],
            [
             1,
             "#f0f921"
            ]
           ],
           "sequentialminus": [
            [
             0,
             "#0d0887"
            ],
            [
             0.1111111111111111,
             "#46039f"
            ],
            [
             0.2222222222222222,
             "#7201a8"
            ],
            [
             0.3333333333333333,
             "#9c179e"
            ],
            [
             0.4444444444444444,
             "#bd3786"
            ],
            [
             0.5555555555555556,
             "#d8576b"
            ],
            [
             0.6666666666666666,
             "#ed7953"
            ],
            [
             0.7777777777777778,
             "#fb9f3a"
            ],
            [
             0.8888888888888888,
             "#fdca26"
            ],
            [
             1,
             "#f0f921"
            ]
           ]
          },
          "colorway": [
           "#636efa",
           "#EF553B",
           "#00cc96",
           "#ab63fa",
           "#FFA15A",
           "#19d3f3",
           "#FF6692",
           "#B6E880",
           "#FF97FF",
           "#FECB52"
          ],
          "font": {
           "color": "#2a3f5f"
          },
          "geo": {
           "bgcolor": "white",
           "lakecolor": "white",
           "landcolor": "#E5ECF6",
           "showlakes": true,
           "showland": true,
           "subunitcolor": "white"
          },
          "hoverlabel": {
           "align": "left"
          },
          "hovermode": "closest",
          "mapbox": {
           "style": "light"
          },
          "paper_bgcolor": "white",
          "plot_bgcolor": "#E5ECF6",
          "polar": {
           "angularaxis": {
            "gridcolor": "white",
            "linecolor": "white",
            "ticks": ""
           },
           "bgcolor": "#E5ECF6",
           "radialaxis": {
            "gridcolor": "white",
            "linecolor": "white",
            "ticks": ""
           }
          },
          "scene": {
           "xaxis": {
            "backgroundcolor": "#E5ECF6",
            "gridcolor": "white",
            "gridwidth": 2,
            "linecolor": "white",
            "showbackground": true,
            "ticks": "",
            "zerolinecolor": "white"
           },
           "yaxis": {
            "backgroundcolor": "#E5ECF6",
            "gridcolor": "white",
            "gridwidth": 2,
            "linecolor": "white",
            "showbackground": true,
            "ticks": "",
            "zerolinecolor": "white"
           },
           "zaxis": {
            "backgroundcolor": "#E5ECF6",
            "gridcolor": "white",
            "gridwidth": 2,
            "linecolor": "white",
            "showbackground": true,
            "ticks": "",
            "zerolinecolor": "white"
           }
          },
          "shapedefaults": {
           "line": {
            "color": "#2a3f5f"
           }
          },
          "ternary": {
           "aaxis": {
            "gridcolor": "white",
            "linecolor": "white",
            "ticks": ""
           },
           "baxis": {
            "gridcolor": "white",
            "linecolor": "white",
            "ticks": ""
           },
           "bgcolor": "#E5ECF6",
           "caxis": {
            "gridcolor": "white",
            "linecolor": "white",
            "ticks": ""
           }
          },
          "title": {
           "x": 0.05
          },
          "xaxis": {
           "automargin": true,
           "gridcolor": "white",
           "linecolor": "white",
           "ticks": "",
           "title": {
            "standoff": 15
           },
           "zerolinecolor": "white",
           "zerolinewidth": 2
          },
          "yaxis": {
           "automargin": true,
           "gridcolor": "white",
           "linecolor": "white",
           "ticks": "",
           "title": {
            "standoff": 15
           },
           "zerolinecolor": "white",
           "zerolinewidth": 2
          }
         }
        },
        "title": {
         "text": "First 3 pricipal components of PathologyGAN's PCA feature"
        }
       }
      },
      "text/html": [
       "<div>                            <div id=\"72f7bd12-3998-41fe-804a-2a8ef176e006\" class=\"plotly-graph-div\" style=\"height:525px; width:100%;\"></div>            <script type=\"text/javascript\">                require([\"plotly\"], function(Plotly) {                    window.PLOTLYENV=window.PLOTLYENV || {};                                    if (document.getElementById(\"72f7bd12-3998-41fe-804a-2a8ef176e006\")) {                    Plotly.newPlot(                        \"72f7bd12-3998-41fe-804a-2a8ef176e006\",                        [{\"marker\":{\"opacity\":0.8,\"size\":4},\"mode\":\"markers\",\"name\":\"ADI\",\"x\":[-2.80910325050354,-3.5107946395874023,-2.540876626968384,-2.466106414794922,-0.4942999482154846,-2.5766615867614746,-2.515319347381592,-2.4500153064727783,-3.4240779876708984,-2.6738908290863037,-2.4760935306549072,-3.14597749710083,-2.6527116298675537,-2.2297441959381104,-2.20523738861084,-2.8100199699401855,-2.110729455947876,-1.0982666015625,-2.482320547103882,-2.7989208698272705],\"y\":[1.641084909439087,2.095238447189331,0.6980736255645752,1.1305599212646484,0.29047855734825134,-0.0504959337413311,0.9154621362686157,1.9379597902297974,1.223361611366272,1.4871126413345337,1.0783816576004028,1.2370116710662842,0.7089271545410156,0.9724736213684082,0.4453190267086029,1.3596603870391846,0.9256184101104736,-0.7673229575157166,1.21478271484375,1.0915733575820923],\"z\":[-1.6792036294937134,-1.1832021474838257,-1.9788157939910889,-1.9436942338943481,-0.46169668436050415,-1.2491406202316284,-1.8460683822631836,-0.769687294960022,-0.5930798053741455,-1.4590485095977783,-1.2425991296768188,-0.31574583053588867,-1.342515468597412,-1.4953522682189941,-2.531210422515869,-0.9483823776245117,-1.1083091497421265,-2.3734583854675293,-1.7588921785354614,-1.43263578414917],\"type\":\"scatter3d\"},{\"marker\":{\"opacity\":0.8,\"size\":4},\"mode\":\"markers\",\"name\":\"BACK\",\"x\":[-2.8042843341827393,0.8385344743728638,-3.437290668487549,-3.1348464488983154,0.7314002513885498,-2.147923469543457,-2.3230206966400146,-0.8257145881652832,-2.785698413848877,-2.7182464599609375,-2.6656105518341064,-1.7403383255004883,-0.1851545125246048,-3.2624528408050537,0.560878574848175,-2.000267267227173,-3.39613938331604,-2.7366838455200195,-2.9919610023498535,-1.9951847791671753,-3.4248368740081787,-3.0863757133483887,-3.438183307647705,-1.8699625730514526,-3.074002504348755,-2.666363000869751,-3.3237197399139404,-2.7485477924346924,-2.129458427429199],\"y\":[-1.3386635780334473,-0.44277986884117126,-0.34917590022087097,-0.5737688541412354,0.202111154794693,3.0612497329711914,-0.7469519376754761,2.140403985977173,-0.5729371905326843,-0.6371952891349792,-1.3187475204467773,2.8922226428985596,-1.3877997398376465,-0.27803394198417664,3.135702610015869,2.0205066204071045,-0.3462461531162262,-1.1293288469314575,-0.0914870873093605,2.5647084712982178,0.3548954129219055,-0.2342482954263687,0.2809958755970001,4.790000915527344,0.486345112323761,0.07931797206401825,0.17615391314029694,-0.15286961197853088,-0.0032860920764505863],\"z\":[-1.5004860162734985,-2.9620444774627686,0.3747452199459076,-0.6676859855651855,-0.4262874722480774,0.03439986705780029,-1.244189739227295,-0.5851277112960815,0.4523427486419678,0.21515953540802002,-0.5012557506561279,-0.2700692415237427,-2.6020498275756836,0.1898866891860962,0.6878861784934998,-1.1515488624572754,-0.06945113092660904,-0.5515846610069275,0.4076254665851593,-0.2179465889930725,0.7451879978179932,0.0441930815577507,0.23133385181427002,-0.3493310809135437,-0.12264461815357208,0.1522737592458725,0.2922041118144989,0.6666591167449951,0.6146443486213684],\"type\":\"scatter3d\"},{\"marker\":{\"opacity\":0.8,\"size\":4},\"mode\":\"markers\",\"name\":\"DEB\",\"x\":[-0.949601411819458,-0.653144359588623,-0.992447555065155,-2.0278947353363037,2.670332193374634,-0.1636441946029663,1.5869381427764893,-0.4948872923851013,-1.5119367837905884,1.3880749940872192,-1.1581059694290161,4.438055515289307,-1.115469217300415,-2.431694269180298,-2.2375295162200928,-1.995535135269165,1.7805414199829102,-1.1487576961517334,0.12503202259540558,-2.0510294437408447,2.1888651847839355],\"y\":[-1.74832022190094,-1.7916929721832275,-1.6330013275146484,-1.2618733644485474,-0.2304566353559494,-0.9714247584342957,-0.15573427081108093,-2.148298501968384,0.20254573225975037,1.719498872756958,-0.7978692650794983,-1.0995359420776367,-1.5374306440353394,-0.446001797914505,-1.486035943031311,-1.3105318546295166,6.373378753662109,-1.0548309087753296,-2.0928399562835693,-1.0958093404769897,0.5248071551322937],\"z\":[0.6196725368499756,0.4250074625015259,1.6308354139328003,0.4354446828365326,-0.42151781916618347,-1.0496264696121216,-0.9445487260818481,0.2361324280500412,-0.04571620374917984,0.7638567686080933,1.5331089496612549,-0.8454372882843018,0.07552725821733475,-0.2614552080631256,1.3643172979354858,1.1603158712387085,1.2013646364212036,-0.47173166275024414,0.8806122541427612,0.369162917137146,0.1365313082933426],\"type\":\"scatter3d\"},{\"marker\":{\"opacity\":0.8,\"size\":4},\"mode\":\"markers\",\"name\":\"LYM\",\"x\":[8.317464828491211,1.9302431344985962,5.693930149078369,4.7158355712890625,6.5534234046936035,6.03725528717041,4.379756450653076,7.215152263641357,5.891232967376709,2.568795919418335,9.089051246643066,7.78715181350708,5.944592475891113,2.5507049560546875,2.358452320098877,3.8699355125427246,5.171095848083496,8.048303604125977,3.082335948944092,1.5726706981658936,5.506684303283691,8.415162086486816,3.8205440044403076,4.755460262298584],\"y\":[0.49578890204429626,-0.6899961829185486,-0.3507034480571747,1.3090718984603882,0.3216196894645691,-0.08638095110654831,-0.19609028100967407,2.201855182647705,0.24356892704963684,-1.1731953620910645,1.2077538967132568,0.6078155636787415,4.0083231925964355,2.342583656311035,-1.2840025424957275,-2.078395366668701,2.0957047939300537,1.2301161289215088,-1.6841869354248047,-0.6454808712005615,0.31266045570373535,1.4713590145111084,-1.4674891233444214,-0.23318402469158173],\"z\":[-0.5414592623710632,-1.8226772546768188,-0.9104019403457642,0.41950032114982605,0.4398237466812134,-0.805705189704895,-1.1106138229370117,-1.0050157308578491,-0.4814695417881012,-0.6272109746932983,-0.9224023818969727,-1.079860806465149,-0.2964570224285126,0.652327835559845,-0.8065783977508545,-1.4690663814544678,-0.42504778504371643,-1.9550151824951172,-1.4759832620620728,-1.8956828117370605,-0.3884112536907196,-0.28090932965278625,-0.8909381628036499,-1.1223649978637695],\"type\":\"scatter3d\"},{\"marker\":{\"opacity\":0.8,\"size\":4},\"mode\":\"markers\",\"name\":\"MUC\",\"x\":[-2.811310291290283,-1.4364233016967773,-1.9444092512130737,-3.0520989894866943,7.311782360076904,-2.1481053829193115,4.0519328117370605,-2.3227415084838867,-2.469416618347168,-2.1080422401428223,0.5912961363792419,-2.0037219524383545,-0.980537474155426,-1.0481783151626587,1.956563115119934],\"y\":[0.6740286350250244,-0.34565263986587524,-0.24497665464878082,3.142521381378174,2.66701340675354,0.41702601313591003,-0.9423514604568481,-0.2540041506290436,0.3367685079574585,-0.010101006366312504,-0.07010903209447861,0.16474393010139465,0.6430789232254028,-0.4632924497127533,-0.629684329032898],\"z\":[-1.263016939163208,0.2728184461593628,-1.7957689762115479,1.0725940465927124,-0.4788314402103424,0.6142954230308533,2.0309605598449707,-0.6366668939590454,-0.009603375568985939,-0.7294905781745911,-0.7601697444915771,-1.50285804271698,2.508153200149536,-1.918059229850769,3.2956290245056152],\"type\":\"scatter3d\"},{\"marker\":{\"opacity\":0.8,\"size\":4},\"mode\":\"markers\",\"name\":\"MUS\",\"x\":[-2.826046943664551,-2.545809745788574,0.5151179432868958,-2.2149829864501953,0.907294511795044,-2.4368152618408203,-1.1363848447799683,1.8474656343460083,-0.8152084350585938,-0.3645562529563904,-1.6930421590805054,-1.8597511053085327,-0.929050087928772,-1.482484221458435,1.5186933279037476,-1.1580017805099487,-0.3202328383922577,-1.2648730278015137,-1.4349876642227173,-1.0011721849441528,-0.9460918307304382,-1.3156172037124634,1.5165282487869263,-0.8964354395866394],\"y\":[-1.067091941833496,0.3897300660610199,3.1649465560913086,-0.05394352599978447,0.898815929889679,1.427390694618225,2.7882919311523438,3.5381200313568115,-1.5054104328155518,-1.1942888498306274,-1.7118566036224365,0.5798163414001465,-1.2957618236541748,-1.384553074836731,1.3316994905471802,1.1737430095672607,-0.6555736660957336,-1.0392847061157227,-0.76240074634552,-1.148558259010315,-1.3991590738296509,-1.2166528701782227,-1.9325599670410156,-1.6799780130386353],\"z\":[1.5014948844909668,1.0694074630737305,4.4743218421936035,0.501203179359436,3.9681665897369385,-0.38852018117904663,2.0195465087890625,-0.7053205966949463,-1.9089176654815674,0.4381464421749115,1.8647730350494385,1.2740355730056763,2.9712226390838623,2.2882416248321533,3.3144803047180176,-0.7376317977905273,-2.912081241607666,-0.9471005201339722,-1.7320901155471802,-4.187099456787109,0.8555601239204407,-2.0876636505126953,0.8368980884552002,-0.3288414180278778],\"type\":\"scatter3d\"},{\"marker\":{\"opacity\":0.8,\"size\":4},\"mode\":\"markers\",\"name\":\"NORM\",\"x\":[-0.6603190898895264,3.1558170318603516,-1.0971190929412842,-0.22669823467731476,-0.18013377487659454,4.254236698150635,3.478296995162964,4.454375743865967,2.961278200149536,5.0351738929748535,2.226635694503784,3.0865349769592285,-0.625483512878418],\"y\":[5.520968914031982,0.9273907542228699,1.2149876356124878,1.3312077522277832,0.2269643247127533,-0.9131682515144348,-0.5726996660232544,1.1185550689697266,1.6113225221633911,2.2628769874572754,1.50869882106781,-0.48633378744125366,1.7492738962173462],\"z\":[0.8663725256919861,-0.848366916179657,1.5529272556304932,0.5130269527435303,0.32849955558776855,-0.759674072265625,-0.7392110228538513,0.9640799164772034,-0.8865923285484314,1.180433750152588,-0.6991420984268188,0.20462387800216675,-0.03885919973254204],\"type\":\"scatter3d\"},{\"marker\":{\"opacity\":0.8,\"size\":4},\"mode\":\"markers\",\"name\":\"STR\",\"x\":[-1.6992220878601074,-2.1843457221984863,-0.8840118050575256,0.8265144228935242,-1.7924840450286865,-1.1162184476852417,-1.6072357892990112,0.44033700227737427,-1.5767693519592285,-2.118816375732422,-1.5423022508621216,-1.0166280269622803,-1.2150081396102905,-0.16175879538059235,-0.4319313168525696,-2.21907901763916,-1.298270583152771,-1.0682727098464966],\"y\":[-1.9958336353302002,0.6414546966552734,-1.1497048139572144,-1.642641544342041,-1.6496585607528687,-1.5298842191696167,-0.4715363085269928,-1.4050674438476562,-0.8323615193367004,0.026942741125822067,-2.4296984672546387,-1.125867486000061,-1.8682504892349243,-1.4609904289245605,-1.2910897731781006,-0.4727605879306793,-1.5226798057556152,-1.8274949789047241],\"z\":[0.3162650167942047,1.7459235191345215,1.5335009098052979,1.7262014150619507,-1.0417574644088745,-0.26611796021461487,-0.6813101172447205,0.4567407965660095,0.5321458578109741,0.9864225387573242,-0.4028305113315582,0.08562818169593811,0.27913063764572144,1.947022557258606,-2.1030995845794678,1.6492931842803955,-0.8635166883468628,1.2377198934555054],\"type\":\"scatter3d\"},{\"marker\":{\"opacity\":0.8,\"size\":4},\"mode\":\"markers\",\"name\":\"TUM\",\"x\":[5.282077789306641,3.5683329105377197,4.8515167236328125,0.7841576933860779,5.955626487731934,3.5823004245758057,4.746068000793457,0.34536460041999817,3.163618326187134,4.240563869476318,1.640069603919983,3.6987335681915283,2.980156421661377,-0.5177138447761536,1.9616448879241943,1.1999833583831787,0.1784152388572693,3.4881343841552734,-0.7874645590782166,3.2776334285736084,2.682187080383301,3.2031800746917725,4.555750846862793,2.967742443084717,3.5071651935577393,-0.38065633177757263,1.3866370916366577,5.726469993591309,1.0309338569641113,2.49501895904541,5.049384593963623,0.7600491046905518,0.05018305405974388,3.0489213466644287,0.2961072623729706,0.9085349440574646],\"y\":[-0.31221577525138855,-1.2266201972961426,1.5937894582748413,-0.11093439161777496,2.426994562149048,-0.8039520382881165,-1.4145723581314087,-2.4228954315185547,-0.4624347388744354,-0.9779943823814392,-0.9540731906890869,-0.9110185503959656,-2.025421380996704,-0.4811004400253296,0.16412410140037537,-1.7087650299072266,-2.0290091037750244,-0.33475053310394287,-1.7365187406539917,1.3622560501098633,-1.3244907855987549,2.7908382415771484,-0.6850056648254395,-1.1832385063171387,0.8240606188774109,-2.13202166557312,-0.24204504489898682,1.8622276782989502,0.6859128475189209,-1.5948601961135864,-1.0344979763031006,-1.729380488395691,2.5404114723205566,-1.6344274282455444,-2.6649022102355957,-1.8437764644622803],\"z\":[-0.45349565148353577,1.5863803625106812,1.1532440185546875,0.6260252594947815,-0.608002781867981,-0.5616295337677002,-0.36129456758499146,-0.030400888994336128,0.5448715090751648,0.23279401659965515,1.2286672592163086,-0.5922850370407104,0.8439737558364868,-1.9362295866012573,-1.0513967275619507,0.9188126921653748,0.426249623298645,1.6245808601379395,0.6412115693092346,0.770486056804657,2.125746250152588,0.9386202096939087,-1.4899017810821533,-0.05740664526820183,2.211939573287964,1.3128868341445923,1.4493720531463623,0.3399445414543152,1.000885248184204,0.5436438918113708,0.46317851543426514,0.056854091584682465,0.8496703505516052,1.04273521900177,0.4831208288669586,0.4202795624732971],\"type\":\"scatter3d\"}],                        {\"scene\":{\"xaxis\":{\"title\":{\"text\":\"PC1\"}},\"yaxis\":{\"title\":{\"text\":\"PC2\"}},\"zaxis\":{\"title\":{\"text\":\"PC3\"}}},\"showlegend\":true,\"template\":{\"data\":{\"histogram2dcontour\":[{\"type\":\"histogram2dcontour\",\"colorbar\":{\"outlinewidth\":0,\"ticks\":\"\"},\"colorscale\":[[0.0,\"#0d0887\"],[0.1111111111111111,\"#46039f\"],[0.2222222222222222,\"#7201a8\"],[0.3333333333333333,\"#9c179e\"],[0.4444444444444444,\"#bd3786\"],[0.5555555555555556,\"#d8576b\"],[0.6666666666666666,\"#ed7953\"],[0.7777777777777778,\"#fb9f3a\"],[0.8888888888888888,\"#fdca26\"],[1.0,\"#f0f921\"]]}],\"choropleth\":[{\"type\":\"choropleth\",\"colorbar\":{\"outlinewidth\":0,\"ticks\":\"\"}}],\"histogram2d\":[{\"type\":\"histogram2d\",\"colorbar\":{\"outlinewidth\":0,\"ticks\":\"\"},\"colorscale\":[[0.0,\"#0d0887\"],[0.1111111111111111,\"#46039f\"],[0.2222222222222222,\"#7201a8\"],[0.3333333333333333,\"#9c179e\"],[0.4444444444444444,\"#bd3786\"],[0.5555555555555556,\"#d8576b\"],[0.6666666666666666,\"#ed7953\"],[0.7777777777777778,\"#fb9f3a\"],[0.8888888888888888,\"#fdca26\"],[1.0,\"#f0f921\"]]}],\"heatmap\":[{\"type\":\"heatmap\",\"colorbar\":{\"outlinewidth\":0,\"ticks\":\"\"},\"colorscale\":[[0.0,\"#0d0887\"],[0.1111111111111111,\"#46039f\"],[0.2222222222222222,\"#7201a8\"],[0.3333333333333333,\"#9c179e\"],[0.4444444444444444,\"#bd3786\"],[0.5555555555555556,\"#d8576b\"],[0.6666666666666666,\"#ed7953\"],[0.7777777777777778,\"#fb9f3a\"],[0.8888888888888888,\"#fdca26\"],[1.0,\"#f0f921\"]]}],\"heatmapgl\":[{\"type\":\"heatmapgl\",\"colorbar\":{\"outlinewidth\":0,\"ticks\":\"\"},\"colorscale\":[[0.0,\"#0d0887\"],[0.1111111111111111,\"#46039f\"],[0.2222222222222222,\"#7201a8\"],[0.3333333333333333,\"#9c179e\"],[0.4444444444444444,\"#bd3786\"],[0.5555555555555556,\"#d8576b\"],[0.6666666666666666,\"#ed7953\"],[0.7777777777777778,\"#fb9f3a\"],[0.8888888888888888,\"#fdca26\"],[1.0,\"#f0f921\"]]}],\"contourcarpet\":[{\"type\":\"contourcarpet\",\"colorbar\":{\"outlinewidth\":0,\"ticks\":\"\"}}],\"contour\":[{\"type\":\"contour\",\"colorbar\":{\"outlinewidth\":0,\"ticks\":\"\"},\"colorscale\":[[0.0,\"#0d0887\"],[0.1111111111111111,\"#46039f\"],[0.2222222222222222,\"#7201a8\"],[0.3333333333333333,\"#9c179e\"],[0.4444444444444444,\"#bd3786\"],[0.5555555555555556,\"#d8576b\"],[0.6666666666666666,\"#ed7953\"],[0.7777777777777778,\"#fb9f3a\"],[0.8888888888888888,\"#fdca26\"],[1.0,\"#f0f921\"]]}],\"surface\":[{\"type\":\"surface\",\"colorbar\":{\"outlinewidth\":0,\"ticks\":\"\"},\"colorscale\":[[0.0,\"#0d0887\"],[0.1111111111111111,\"#46039f\"],[0.2222222222222222,\"#7201a8\"],[0.3333333333333333,\"#9c179e\"],[0.4444444444444444,\"#bd3786\"],[0.5555555555555556,\"#d8576b\"],[0.6666666666666666,\"#ed7953\"],[0.7777777777777778,\"#fb9f3a\"],[0.8888888888888888,\"#fdca26\"],[1.0,\"#f0f921\"]]}],\"mesh3d\":[{\"type\":\"mesh3d\",\"colorbar\":{\"outlinewidth\":0,\"ticks\":\"\"}}],\"scatter\":[{\"fillpattern\":{\"fillmode\":\"overlay\",\"size\":10,\"solidity\":0.2},\"type\":\"scatter\"}],\"parcoords\":[{\"type\":\"parcoords\",\"line\":{\"colorbar\":{\"outlinewidth\":0,\"ticks\":\"\"}}}],\"scatterpolargl\":[{\"type\":\"scatterpolargl\",\"marker\":{\"colorbar\":{\"outlinewidth\":0,\"ticks\":\"\"}}}],\"bar\":[{\"error_x\":{\"color\":\"#2a3f5f\"},\"error_y\":{\"color\":\"#2a3f5f\"},\"marker\":{\"line\":{\"color\":\"#E5ECF6\",\"width\":0.5},\"pattern\":{\"fillmode\":\"overlay\",\"size\":10,\"solidity\":0.2}},\"type\":\"bar\"}],\"scattergeo\":[{\"type\":\"scattergeo\",\"marker\":{\"colorbar\":{\"outlinewidth\":0,\"ticks\":\"\"}}}],\"scatterpolar\":[{\"type\":\"scatterpolar\",\"marker\":{\"colorbar\":{\"outlinewidth\":0,\"ticks\":\"\"}}}],\"histogram\":[{\"marker\":{\"pattern\":{\"fillmode\":\"overlay\",\"size\":10,\"solidity\":0.2}},\"type\":\"histogram\"}],\"scattergl\":[{\"type\":\"scattergl\",\"marker\":{\"colorbar\":{\"outlinewidth\":0,\"ticks\":\"\"}}}],\"scatter3d\":[{\"type\":\"scatter3d\",\"line\":{\"colorbar\":{\"outlinewidth\":0,\"ticks\":\"\"}},\"marker\":{\"colorbar\":{\"outlinewidth\":0,\"ticks\":\"\"}}}],\"scattermapbox\":[{\"type\":\"scattermapbox\",\"marker\":{\"colorbar\":{\"outlinewidth\":0,\"ticks\":\"\"}}}],\"scatterternary\":[{\"type\":\"scatterternary\",\"marker\":{\"colorbar\":{\"outlinewidth\":0,\"ticks\":\"\"}}}],\"scattercarpet\":[{\"type\":\"scattercarpet\",\"marker\":{\"colorbar\":{\"outlinewidth\":0,\"ticks\":\"\"}}}],\"carpet\":[{\"aaxis\":{\"endlinecolor\":\"#2a3f5f\",\"gridcolor\":\"white\",\"linecolor\":\"white\",\"minorgridcolor\":\"white\",\"startlinecolor\":\"#2a3f5f\"},\"baxis\":{\"endlinecolor\":\"#2a3f5f\",\"gridcolor\":\"white\",\"linecolor\":\"white\",\"minorgridcolor\":\"white\",\"startlinecolor\":\"#2a3f5f\"},\"type\":\"carpet\"}],\"table\":[{\"cells\":{\"fill\":{\"color\":\"#EBF0F8\"},\"line\":{\"color\":\"white\"}},\"header\":{\"fill\":{\"color\":\"#C8D4E3\"},\"line\":{\"color\":\"white\"}},\"type\":\"table\"}],\"barpolar\":[{\"marker\":{\"line\":{\"color\":\"#E5ECF6\",\"width\":0.5},\"pattern\":{\"fillmode\":\"overlay\",\"size\":10,\"solidity\":0.2}},\"type\":\"barpolar\"}],\"pie\":[{\"automargin\":true,\"type\":\"pie\"}]},\"layout\":{\"autotypenumbers\":\"strict\",\"colorway\":[\"#636efa\",\"#EF553B\",\"#00cc96\",\"#ab63fa\",\"#FFA15A\",\"#19d3f3\",\"#FF6692\",\"#B6E880\",\"#FF97FF\",\"#FECB52\"],\"font\":{\"color\":\"#2a3f5f\"},\"hovermode\":\"closest\",\"hoverlabel\":{\"align\":\"left\"},\"paper_bgcolor\":\"white\",\"plot_bgcolor\":\"#E5ECF6\",\"polar\":{\"bgcolor\":\"#E5ECF6\",\"angularaxis\":{\"gridcolor\":\"white\",\"linecolor\":\"white\",\"ticks\":\"\"},\"radialaxis\":{\"gridcolor\":\"white\",\"linecolor\":\"white\",\"ticks\":\"\"}},\"ternary\":{\"bgcolor\":\"#E5ECF6\",\"aaxis\":{\"gridcolor\":\"white\",\"linecolor\":\"white\",\"ticks\":\"\"},\"baxis\":{\"gridcolor\":\"white\",\"linecolor\":\"white\",\"ticks\":\"\"},\"caxis\":{\"gridcolor\":\"white\",\"linecolor\":\"white\",\"ticks\":\"\"}},\"coloraxis\":{\"colorbar\":{\"outlinewidth\":0,\"ticks\":\"\"}},\"colorscale\":{\"sequential\":[[0.0,\"#0d0887\"],[0.1111111111111111,\"#46039f\"],[0.2222222222222222,\"#7201a8\"],[0.3333333333333333,\"#9c179e\"],[0.4444444444444444,\"#bd3786\"],[0.5555555555555556,\"#d8576b\"],[0.6666666666666666,\"#ed7953\"],[0.7777777777777778,\"#fb9f3a\"],[0.8888888888888888,\"#fdca26\"],[1.0,\"#f0f921\"]],\"sequentialminus\":[[0.0,\"#0d0887\"],[0.1111111111111111,\"#46039f\"],[0.2222222222222222,\"#7201a8\"],[0.3333333333333333,\"#9c179e\"],[0.4444444444444444,\"#bd3786\"],[0.5555555555555556,\"#d8576b\"],[0.6666666666666666,\"#ed7953\"],[0.7777777777777778,\"#fb9f3a\"],[0.8888888888888888,\"#fdca26\"],[1.0,\"#f0f921\"]],\"diverging\":[[0,\"#8e0152\"],[0.1,\"#c51b7d\"],[0.2,\"#de77ae\"],[0.3,\"#f1b6da\"],[0.4,\"#fde0ef\"],[0.5,\"#f7f7f7\"],[0.6,\"#e6f5d0\"],[0.7,\"#b8e186\"],[0.8,\"#7fbc41\"],[0.9,\"#4d9221\"],[1,\"#276419\"]]},\"xaxis\":{\"gridcolor\":\"white\",\"linecolor\":\"white\",\"ticks\":\"\",\"title\":{\"standoff\":15},\"zerolinecolor\":\"white\",\"automargin\":true,\"zerolinewidth\":2},\"yaxis\":{\"gridcolor\":\"white\",\"linecolor\":\"white\",\"ticks\":\"\",\"title\":{\"standoff\":15},\"zerolinecolor\":\"white\",\"automargin\":true,\"zerolinewidth\":2},\"scene\":{\"xaxis\":{\"backgroundcolor\":\"#E5ECF6\",\"gridcolor\":\"white\",\"linecolor\":\"white\",\"showbackground\":true,\"ticks\":\"\",\"zerolinecolor\":\"white\",\"gridwidth\":2},\"yaxis\":{\"backgroundcolor\":\"#E5ECF6\",\"gridcolor\":\"white\",\"linecolor\":\"white\",\"showbackground\":true,\"ticks\":\"\",\"zerolinecolor\":\"white\",\"gridwidth\":2},\"zaxis\":{\"backgroundcolor\":\"#E5ECF6\",\"gridcolor\":\"white\",\"linecolor\":\"white\",\"showbackground\":true,\"ticks\":\"\",\"zerolinecolor\":\"white\",\"gridwidth\":2}},\"shapedefaults\":{\"line\":{\"color\":\"#2a3f5f\"}},\"annotationdefaults\":{\"arrowcolor\":\"#2a3f5f\",\"arrowhead\":0,\"arrowwidth\":1},\"geo\":{\"bgcolor\":\"white\",\"landcolor\":\"#E5ECF6\",\"subunitcolor\":\"white\",\"showland\":true,\"showlakes\":true,\"lakecolor\":\"white\"},\"title\":{\"x\":0.05},\"mapbox\":{\"style\":\"light\"}}},\"title\":{\"text\":\"First 3 pricipal components of PathologyGAN's PCA feature\"},\"legend\":{\"title\":{\"text\":\"Legend Title\"}}},                        {\"responsive\": true}                    ).then(function(){\n",
       "                            \n",
       "var gd = document.getElementById('72f7bd12-3998-41fe-804a-2a8ef176e006');\n",
       "var x = new MutationObserver(function (mutations, observer) {{\n",
       "        var display = window.getComputedStyle(gd).display;\n",
       "        if (!display || display === 'none') {{\n",
       "            console.log([gd, 'removed!']);\n",
       "            Plotly.purge(gd);\n",
       "            observer.disconnect();\n",
       "        }}\n",
       "}});\n",
       "\n",
       "// Listen for the removal of the full notebook cells\n",
       "var notebookContainer = gd.closest('#notebook-container');\n",
       "if (notebookContainer) {{\n",
       "    x.observe(notebookContainer, {childList: true});\n",
       "}}\n",
       "\n",
       "// Listen for the clearing of the current output cell\n",
       "var outputEl = gd.closest('.output');\n",
       "if (outputEl) {{\n",
       "    x.observe(outputEl, {childList: true});\n",
       "}}\n",
       "\n",
       "                        })                };                });            </script>        </div>"
      ]
     },
     "metadata": {},
     "output_type": "display_data"
    }
   ],
   "source": [
    "traces = []\n",
    "for name in np.unique(labels):\n",
    "    trace = go.Scatter3d(\n",
    "        x=test_data[test_label==name,0],\n",
    "        y=test_data[test_label==name,1],\n",
    "        z=test_data[test_label==name,2],\n",
    "        mode='markers',\n",
    "        name=name,\n",
    "        marker=go.scatter3d.Marker(\n",
    "            size=4,\n",
    "            opacity=0.8\n",
    "        )\n",
    "\n",
    "    )\n",
    "    traces.append(trace)\n",
    "\n",
    "\n",
    "data = go.Data(traces)\n",
    "layout = go.Layout(\n",
    "            showlegend=True,\n",
    "    scene=go.Scene(\n",
    "                xaxis=go.layout.scene.XAxis(title='PC1'),\n",
    "                yaxis=go.layout.scene.YAxis(title='PC2'),\n",
    "                zaxis=go.layout.scene.ZAxis(title='PC3')\n",
    "                )\n",
    ")\n",
    "fig = go.Figure(data=data, layout=layout)\n",
    "fig.update_layout(\n",
    "    title=\"First 3 pricipal components of PathologyGAN's PCA feature\",\n",
    "    legend_title=\"Legend Title\",\n",
    ")\n",
    "\n",
    "fig.show()\n"
   ]
  },
  {
   "cell_type": "markdown",
   "metadata": {},
   "source": [
    "### Model training"
   ]
  },
  {
   "cell_type": "code",
   "execution_count": 41,
   "metadata": {},
   "outputs": [],
   "source": [
    "from sklearn.cluster import KMeans\n",
    "from sklearn.mixture import GaussianMixture\n",
    "from sklearn.cluster import AgglomerativeClustering\n",
    "from sknetwork.clustering import Louvain\n"
   ]
  },
  {
   "cell_type": "code",
   "execution_count": 42,
   "metadata": {},
   "outputs": [],
   "source": [
    "#to create Adjacency matrix for  Louvain clustering\n",
    "from sklearn.metrics import pairwise_distances \n",
    "from sklearn.preprocessing import MinMaxScaler\n"
   ]
  },
  {
   "cell_type": "code",
   "execution_count": 43,
   "metadata": {},
   "outputs": [],
   "source": [
    "kmeans_model = KMeans(n_clusters = 3, random_state = 0) #GaussianMixture(), AgglomerativeClustering(), Louvain\n",
    "kmeans_assignment = kmeans_model.fit_predict(test_data)"
   ]
  },
  {
   "cell_type": "code",
   "execution_count": 44,
   "metadata": {},
   "outputs": [],
   "source": [
    "from scipy import sparse\n",
    "louvain_model = Louvain(resolution = 0.9, modularity = 'Newman',random_state = 0) \n",
    "adjacency_matrix = sparse.csr_matrix(MinMaxScaler().fit_transform(-pairwise_distances(test_data)))\n",
    "louvain_assignment = louvain_model.fit_transform(adjacency_matrix)"
   ]
  },
  {
   "cell_type": "markdown",
   "metadata": {},
   "source": [
    "### Evaluation and Visualisation"
   ]
  },
  {
   "cell_type": "code",
   "execution_count": 45,
   "metadata": {},
   "outputs": [],
   "source": [
    "import matplotlib.pyplot as plt\n",
    "from sklearn.metrics import silhouette_score, v_measure_score\n",
    "from sklearn.model_selection import KFold, train_test_split"
   ]
  },
  {
   "cell_type": "markdown",
   "metadata": {},
   "source": [
    "* check out number of clusters/cluster assignment counts"
   ]
  },
  {
   "cell_type": "code",
   "execution_count": 46,
   "metadata": {},
   "outputs": [
    {
     "name": "stdout",
     "output_type": "stream",
     "text": [
      "Number of clusters from KMeans: 3 and from Louvain: 3\n"
     ]
    }
   ],
   "source": [
    "print('Number of clusters from KMeans: %d and from Louvain: %d'%(np.unique(kmeans_assignment).shape[0],np.unique(louvain_assignment).shape[0]))"
   ]
  },
  {
   "cell_type": "code",
   "execution_count": 47,
   "metadata": {},
   "outputs": [],
   "source": [
    "kmeans_counts = np.unique(kmeans_assignment, return_counts = True)\n",
    "louvain_counts = np.unique(louvain_assignment, return_counts = True)"
   ]
  },
  {
   "cell_type": "code",
   "execution_count": 48,
   "metadata": {},
   "outputs": [
    {
     "name": "stdout",
     "output_type": "stream",
     "text": [
      "Kmeans assignment counts\n"
     ]
    },
    {
     "data": {
      "text/html": [
       "<div>\n",
       "<style scoped>\n",
       "    .dataframe tbody tr th:only-of-type {\n",
       "        vertical-align: middle;\n",
       "    }\n",
       "\n",
       "    .dataframe tbody tr th {\n",
       "        vertical-align: top;\n",
       "    }\n",
       "\n",
       "    .dataframe thead th {\n",
       "        text-align: right;\n",
       "    }\n",
       "</style>\n",
       "<table border=\"1\" class=\"dataframe\">\n",
       "  <thead>\n",
       "    <tr style=\"text-align: right;\">\n",
       "      <th></th>\n",
       "      <th>Number of members</th>\n",
       "    </tr>\n",
       "    <tr>\n",
       "      <th>Cluster Index</th>\n",
       "      <th></th>\n",
       "    </tr>\n",
       "  </thead>\n",
       "  <tbody>\n",
       "    <tr>\n",
       "      <th>0</th>\n",
       "      <td>47</td>\n",
       "    </tr>\n",
       "    <tr>\n",
       "      <th>1</th>\n",
       "      <td>113</td>\n",
       "    </tr>\n",
       "    <tr>\n",
       "      <th>2</th>\n",
       "      <td>40</td>\n",
       "    </tr>\n",
       "  </tbody>\n",
       "</table>\n",
       "</div>"
      ],
      "text/plain": [
       "               Number of members\n",
       "Cluster Index                   \n",
       "0                             47\n",
       "1                            113\n",
       "2                             40"
      ]
     },
     "execution_count": 48,
     "metadata": {},
     "output_type": "execute_result"
    }
   ],
   "source": [
    "print('Kmeans assignment counts')\n",
    "pd.DataFrame({'Cluster Index': kmeans_counts[0], 'Number of members':kmeans_counts[1]}).set_index('Cluster Index')"
   ]
  },
  {
   "cell_type": "code",
   "execution_count": 49,
   "metadata": {},
   "outputs": [
    {
     "name": "stdout",
     "output_type": "stream",
     "text": [
      "Louvain assignment counts\n"
     ]
    },
    {
     "data": {
      "text/html": [
       "<div>\n",
       "<style scoped>\n",
       "    .dataframe tbody tr th:only-of-type {\n",
       "        vertical-align: middle;\n",
       "    }\n",
       "\n",
       "    .dataframe tbody tr th {\n",
       "        vertical-align: top;\n",
       "    }\n",
       "\n",
       "    .dataframe thead th {\n",
       "        text-align: right;\n",
       "    }\n",
       "</style>\n",
       "<table border=\"1\" class=\"dataframe\">\n",
       "  <thead>\n",
       "    <tr style=\"text-align: right;\">\n",
       "      <th></th>\n",
       "      <th>Number of members</th>\n",
       "    </tr>\n",
       "    <tr>\n",
       "      <th>Cluster Index</th>\n",
       "      <th></th>\n",
       "    </tr>\n",
       "  </thead>\n",
       "  <tbody>\n",
       "    <tr>\n",
       "      <th>0</th>\n",
       "      <td>132</td>\n",
       "    </tr>\n",
       "    <tr>\n",
       "      <th>1</th>\n",
       "      <td>67</td>\n",
       "    </tr>\n",
       "    <tr>\n",
       "      <th>2</th>\n",
       "      <td>1</td>\n",
       "    </tr>\n",
       "  </tbody>\n",
       "</table>\n",
       "</div>"
      ],
      "text/plain": [
       "               Number of members\n",
       "Cluster Index                   \n",
       "0                            132\n",
       "1                             67\n",
       "2                              1"
      ]
     },
     "execution_count": 49,
     "metadata": {},
     "output_type": "execute_result"
    }
   ],
   "source": [
    "print('Louvain assignment counts')\n",
    "pd.DataFrame({'Cluster Index': louvain_counts[0], 'Number of members':louvain_counts[1]}).set_index('Cluster Index')"
   ]
  },
  {
   "cell_type": "markdown",
   "metadata": {},
   "source": [
    "* Assess goodness of fit by silhouette score and cluster homogeneities by V-measure"
   ]
  },
  {
   "cell_type": "code",
   "execution_count": 25,
   "metadata": {},
   "outputs": [
    {
     "data": {
      "text/html": [
       "<div>\n",
       "<style scoped>\n",
       "    .dataframe tbody tr th:only-of-type {\n",
       "        vertical-align: middle;\n",
       "    }\n",
       "\n",
       "    .dataframe tbody tr th {\n",
       "        vertical-align: top;\n",
       "    }\n",
       "\n",
       "    .dataframe thead th {\n",
       "        text-align: right;\n",
       "    }\n",
       "</style>\n",
       "<table border=\"1\" class=\"dataframe\">\n",
       "  <thead>\n",
       "    <tr style=\"text-align: right;\">\n",
       "      <th></th>\n",
       "      <th>Kmeans</th>\n",
       "      <th>Louvain</th>\n",
       "    </tr>\n",
       "    <tr>\n",
       "      <th>Metrics</th>\n",
       "      <th></th>\n",
       "      <th></th>\n",
       "    </tr>\n",
       "  </thead>\n",
       "  <tbody>\n",
       "    <tr>\n",
       "      <th>silhouette</th>\n",
       "      <td>0.192233</td>\n",
       "      <td>0.246675</td>\n",
       "    </tr>\n",
       "    <tr>\n",
       "      <th>V-measure</th>\n",
       "      <td>0.268505</td>\n",
       "      <td>0.270140</td>\n",
       "    </tr>\n",
       "  </tbody>\n",
       "</table>\n",
       "</div>"
      ],
      "text/plain": [
       "              Kmeans   Louvain\n",
       "Metrics                       \n",
       "silhouette  0.192233  0.246675\n",
       "V-measure   0.268505  0.270140"
      ]
     },
     "execution_count": 25,
     "metadata": {},
     "output_type": "execute_result"
    }
   ],
   "source": [
    "kmeans_silhouette = silhouette_score(test_data, kmeans_assignment)\n",
    "louvain_silhouette = silhouette_score(test_data, louvain_assignment)\n",
    "kmeans_v_measure = v_measure_score(test_label, kmeans_assignment)\n",
    "louvain_v_measure = v_measure_score(test_label, louvain_assignment)\n",
    "pd.DataFrame({'Metrics': ['silhouette', 'V-measure'], 'Kmeans': [kmeans_silhouette, kmeans_v_measure], 'Louvain':[louvain_silhouette, louvain_v_measure]}).set_index('Metrics')"
   ]
  },
  {
   "cell_type": "markdown",
   "metadata": {},
   "source": [
    "* Visualise tissue type percentage in two different clustering configurations"
   ]
  },
  {
   "cell_type": "code",
   "execution_count": 26,
   "metadata": {},
   "outputs": [],
   "source": [
    "def calculate_percent(sub_df, attrib):\n",
    "    cnt = sub_df[attrib].count()\n",
    "    output_sub_df = sub_df.groupby(attrib).count()\n",
    "    return (output_sub_df/cnt)"
   ]
  },
  {
   "cell_type": "code",
   "execution_count": 27,
   "metadata": {},
   "outputs": [
    {
     "name": "stderr",
     "output_type": "stream",
     "text": [
      "/var/folders/5m/rcxypnrn19nblt9t9403ffqw0000gn/T/ipykernel_81776/3428919821.py:27: UserWarning:\n",
      "\n",
      "Matplotlib is currently using module://matplotlib_inline.backend_inline, which is a non-GUI backend, so cannot show the figure.\n",
      "\n"
     ]
    },
    {
     "data": {
      "image/png": "[encoded data removed]",
      "text/plain": [
       "<Figure size 2000x500 with 2 Axes>"
      ]
     },
     "metadata": {},
     "output_type": "display_data"
    }
   ],
   "source": [
    "resulted_cluster_df = pd.DataFrame({'clusterID': kmeans_assignment, 'type': test_label})\n",
    "label_proportion_df = resulted_cluster_df.groupby(['clusterID']).apply(lambda x: calculate_percent(x,'type')).rename(columns={'clusterID':'type_occurrence_percentage'}).reset_index()\n",
    "pivoted_label_proportion_df = pd.pivot_table(label_proportion_df, index = 'clusterID', columns = 'type', values = 'type_occurrence_percentage')\n",
    "\n",
    "\n",
    "f, axes = plt.subplots(1, 2, figsize=(20,5))\n",
    "number_of_tile_df = resulted_cluster_df.groupby('clusterID')['type'].count().reset_index().rename(columns={'type':'number_of_tile'})\n",
    "df_idx = pivoted_label_proportion_df.index\n",
    "(pivoted_label_proportion_df*100).loc[df_idx].plot.bar(stacked=True, ax = axes[0] )\n",
    "\n",
    "axes[0].set_ylabel('Percentage of tissue type')\n",
    "axes[0].legend(loc='upper right')\n",
    "axes[0].set_title('Cluster configuration by Kmeans')\n",
    "\n",
    "resulted_cluster_df = pd.DataFrame({'clusterID': louvain_assignment, 'type': test_label})\n",
    "label_proportion_df = resulted_cluster_df.groupby(['clusterID']).apply(lambda x: calculate_percent(x,'type')).rename(columns={'clusterID':'type_occurrence_percentage'}).reset_index()\n",
    "pivoted_label_proportion_df = pd.pivot_table(label_proportion_df, index = 'clusterID', columns = 'type', values = 'type_occurrence_percentage')\n",
    "\n",
    "\n",
    "number_of_tile_df = resulted_cluster_df.groupby('clusterID')['type'].count().reset_index().rename(columns={'type':'number_of_tile'})\n",
    "df_idx = pivoted_label_proportion_df.index\n",
    "(pivoted_label_proportion_df*100).loc[df_idx].plot.bar(stacked=True, ax = axes[1] )\n",
    "\n",
    "axes[1].set_ylabel('Percentage of tissue type')\n",
    "axes[1].legend(loc='upper right')\n",
    "axes[1].set_title('Cluster configuration by Louvain')\n",
    "f.show()"
   ]
  },
  {
   "cell_type": "code",
   "execution_count": null,
   "metadata": {},
   "outputs": [],
   "source": []
  }
 ],
 "metadata": {
  "kernelspec": {
   "display_name": "Python 3",
   "language": "python",
   "name": "python3"
  },
  "language_info": {
   "codemirror_mode": {
    "name": "ipython",
    "version": 3
   },
   "file_extension": ".py",
   "mimetype": "text/x-python",
   "name": "python",
   "nbconvert_exporter": "python",
   "pygments_lexer": "ipython3",
   "version": "3.8.8"
  }
 },
 "nbformat": 4,
 "nbformat_minor": 2
}
